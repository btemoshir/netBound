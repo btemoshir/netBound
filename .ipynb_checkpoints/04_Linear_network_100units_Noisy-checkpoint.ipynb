{
 "cells": [
  {
   "cell_type": "markdown",
   "metadata": {},
   "source": [
    "# We determine the AUC as a function of noise level for the linear network with 10 randomly unobserved out of 100 total species:"
   ]
  },
  {
   "cell_type": "code",
   "execution_count": 1,
   "metadata": {},
   "outputs": [],
   "source": [
    "import numpy as np\n",
    "import scipy as sc\n",
    "import matplotlib.pyplot as plt\n",
    "from scipy.integrate import odeint\n",
    "import sys\n",
    "import os\n",
    "sys.path.append('packages/')\n",
    "from utilities import *\n",
    "from importlib import reload\n",
    "#from utilities reload *\n",
    "import utilities\n",
    "import networkx as nx\n",
    "import sdeint"
   ]
  },
  {
   "cell_type": "code",
   "execution_count": 2,
   "metadata": {},
   "outputs": [],
   "source": [
    "plt.rcParams.update({'font.size': 16,'font.family':'arial'})"
   ]
  },
  {
   "cell_type": "markdown",
   "metadata": {},
   "source": [
    "## Generate network"
   ]
  },
  {
   "cell_type": "code",
   "execution_count": 3,
   "metadata": {},
   "outputs": [],
   "source": [
    "#Parameters:\n",
    "T      = 10.\n",
    "deltaT = 0.001\n",
    "num_species = 100\n",
    "degree = 5\n",
    "num_subnw   = 90\n",
    "num_bulk    = 10 #Convention: in the vector of conc. the subnetwork species appear first\n",
    "parameters  = np.ones(num_species)*1\n",
    "Ω           = 1.*((np.random.rand(num_species)*0.2)-0.1)"
   ]
  },
  {
   "cell_type": "code",
   "execution_count": 11,
   "metadata": {},
   "outputs": [],
   "source": [
    "nw1 = nx.gnm_random_graph(num_species,num_species*degree,directed=True)"
   ]
  },
  {
   "cell_type": "code",
   "execution_count": 12,
   "metadata": {},
   "outputs": [
    {
     "name": "stdout",
     "output_type": "stream",
     "text": [
      "[ 0  1  3  6  7 11 12 16 17 18 19 20 21 24 29 30 31 35 40 41 44 46 47 51\n",
      " 54 55 60 62 69 71 72 76 81 85 89]\n"
     ]
    }
   ],
   "source": [
    "boundary_list = find_boundaries(nw1,np.arange(num_subnw,num_species))\n",
    "print(boundary_list)"
   ]
  },
  {
   "cell_type": "code",
   "execution_count": 13,
   "metadata": {},
   "outputs": [
    {
     "name": "stdout",
     "output_type": "stream",
     "text": [
      "[ 0  1  3  6  7  8  9 11 12 14 16 17 30 36 38 39 41 44 47 57 63 66 67 70\n",
      " 74 76 78 83 84 86 87 88]\n"
     ]
    }
   ],
   "source": [
    "boundary_list_out = find_boundaries_out(nw1,np.arange(num_subnw,num_species))\n",
    "print(boundary_list_out)"
   ]
  },
  {
   "cell_type": "code",
   "execution_count": 14,
   "metadata": {},
   "outputs": [
    {
     "data": {
      "text/plain": [
       "35"
      ]
     },
     "execution_count": 14,
     "metadata": {},
     "output_type": "execute_result"
    }
   ],
   "source": [
    "len(boundary_list)"
   ]
  },
  {
   "cell_type": "code",
   "execution_count": 15,
   "metadata": {},
   "outputs": [],
   "source": [
    "def dynamcical_system_linear(x,t):\n",
    "    y    = np.zeros(nw.number_of_nodes())\n",
    "    \n",
    "    for i in range(len(y)):\n",
    "        in_edges = [[p for p in nw.in_edges(i)][n][0] for n in range(len([m for m in nw.in_edges(i)]))]\n",
    "        for j in in_edges:\n",
    "            y[i] += c[i]*(x[j] - x[i])\n",
    "        in_edges = []\n",
    "    return y"
   ]
  },
  {
   "cell_type": "code",
   "execution_count": 16,
   "metadata": {},
   "outputs": [],
   "source": [
    "def wiener_linear(x,t):\n",
    "    y    = η*np.ones(nw.number_of_nodes()) #+ Ω #- np.mean(Ω)\n",
    "    #return np.expand_dims(y,axis=1)\n",
    "    return np.diag(y)"
   ]
  },
  {
   "cell_type": "code",
   "execution_count": 17,
   "metadata": {},
   "outputs": [],
   "source": [
    "def dynamcical_system_linear_nonoise(t,x):\n",
    "    y    = np.zeros(nw.number_of_nodes())\n",
    "    \n",
    "    for i in range(len(y)):\n",
    "        in_edges = [[p for p in nw.in_edges(i)][n][0] for n in range(len([m for m in nw.in_edges(i)]))]\n",
    "        for j in in_edges:\n",
    "            y[i] += c[i]*(x[j] - x[i])\n",
    "        in_edges = []\n",
    "    return y"
   ]
  },
  {
   "cell_type": "code",
   "execution_count": 18,
   "metadata": {},
   "outputs": [],
   "source": [
    "nw,c,Ω,η = nw1,parameters,Ω,10**(-5)"
   ]
  },
  {
   "cell_type": "code",
   "execution_count": 20,
   "metadata": {},
   "outputs": [
    {
     "name": "stdout",
     "output_type": "stream",
     "text": [
      "[ 100  178  317  563 1000]\n"
     ]
    }
   ],
   "source": [
    "num_repeats_list = np.int32(np.ceil(np.logspace(2,3,5)))\n",
    "print(num_repeats_list)"
   ]
  },
  {
   "cell_type": "markdown",
   "metadata": {},
   "source": [
    "## Generate data"
   ]
  },
  {
   "cell_type": "code",
   "execution_count": 21,
   "metadata": {},
   "outputs": [],
   "source": [
    "deltaT = 0.02\n",
    "T = 0.2\n",
    "Num_runs = num_repeats_list[-1]"
   ]
  },
  {
   "cell_type": "code",
   "execution_count": 22,
   "metadata": {},
   "outputs": [
    {
     "name": "stdout",
     "output_type": "stream",
     "text": [
      "[0.001      0.00215443 0.00464159 0.01       0.02154435 0.04641589\n",
      " 0.1        0.21544347 0.46415888 1.        ]\n"
     ]
    }
   ],
   "source": [
    "noise_list3 = np.logspace(-3,0,10)\n",
    "print(noise_list3)"
   ]
  },
  {
   "cell_type": "code",
   "execution_count": null,
   "metadata": {},
   "outputs": [
    {
     "name": "stdout",
     "output_type": "stream",
     "text": [
      "0\n",
      "1\n",
      "2\n",
      "3\n",
      "4\n",
      "5\n",
      "6\n",
      "7\n"
     ]
    }
   ],
   "source": [
    "soln3   = np.zeros([len(noise_list3),int(T/deltaT)*Num_runs,num_species])\n",
    "obs_noise3 = np.zeros([len(noise_list3),int(T/deltaT)*Num_runs,num_species])\n",
    "\n",
    "for n in range(len(noise_list3)):\n",
    "\n",
    "    η = noise_list3[n]\n",
    "\n",
    "    for i in range(Num_runs):    \n",
    "        init_cond = 10*((np.random.rand(num_species)*0.2) - 0.1)\n",
    "\n",
    "        soln_temp = (sdeint.itoEuler(f=dynamcical_system_linear,G=wiener_linear,y0=init_cond,tspan=np.arange(0,T,deltaT)))\n",
    "\n",
    "        soln3[n,int(T/deltaT)*i:int(T/deltaT)*(i+1),:]    = soln_temp\n",
    "\n",
    "        for j in range(num_subnw):        \n",
    "            obs_noise3[n,int(T/deltaT)*i:int(T/deltaT)*(i+1),j]   = np.gradient((soln_temp[:,j]),deltaT)\n",
    "    print(n)"
   ]
  },
  {
   "cell_type": "markdown",
   "metadata": {},
   "source": [
    "## Fit model:"
   ]
  },
  {
   "cell_type": "code",
   "execution_count": null,
   "metadata": {},
   "outputs": [
    {
     "name": "stdout",
     "output_type": "stream",
     "text": [
      "0 0\n",
      "0 1\n",
      "0 2\n",
      "0 3\n",
      "0 4\n",
      "1 0\n",
      "1 1\n",
      "1 2\n",
      "1 3\n",
      "1 4\n",
      "2 0\n",
      "2 1\n",
      "2 2\n",
      "2 3\n",
      "2 4\n",
      "3 0\n",
      "3 1\n",
      "3 2\n",
      "3 3\n",
      "3 4\n",
      "4 0\n",
      "4 1\n",
      "4 2\n",
      "4 3\n",
      "4 4\n",
      "5 0\n",
      "5 1\n",
      "5 2\n",
      "5 3\n",
      "5 4\n",
      "6 0\n",
      "6 1\n",
      "6 2\n",
      "6 3\n",
      "6 4\n",
      "7 0\n",
      "7 1\n",
      "7 2\n",
      "7 3\n",
      "7 4\n",
      "8 0\n",
      "8 1\n",
      "8 2\n",
      "8 3\n",
      "8 4\n"
     ]
    }
   ],
   "source": [
    "from sklearn import linear_model\n",
    "\n",
    "alpha_opt3            = np.zeros((len(num_repeats_list),len(noise_list3),num_subnw))\n",
    "beta_opt3             = np.zeros((len(num_repeats_list),len(noise_list3),num_subnw))\n",
    "alpha_error3          = np.zeros((len(num_repeats_list),len(noise_list3),num_subnw))\n",
    "beta_error3           = np.zeros((len(num_repeats_list),len(noise_list3),num_subnw))\n",
    "ordered_beta3         = np.zeros((len(num_repeats_list),len(noise_list3),num_subnw))\n",
    "ordered_beta_error3   = np.zeros((len(num_repeats_list),len(noise_list3),num_subnw))\n",
    "auc_list3             = np.zeros((len(num_repeats_list),len(noise_list3)))\n",
    "\n",
    "for n in range(len(noise_list3)):\n",
    "\n",
    "    for n_reps in range(len(num_repeats_list)):\n",
    "    \n",
    "        d1  = utilities.design_matrix_linear(soln3[n,:int(T/deltaT)*num_repeats_list[n_reps],0:num_subnw])\n",
    "        \n",
    "        ridge_model3 = linear_model.BayesianRidge(alpha_init=1.,lambda_init=0.1,max_iter=100,fit_intercept=False,\\\n",
    "                                                       tol=1e-5,compute_score=True)\n",
    "        \n",
    "        for i in range(num_subnw):\n",
    "        \n",
    "            ridge_model3.fit(X=d1,y=obs_noise3[n,:int(T/deltaT)*num_repeats_list[n_reps],i])\n",
    "            alpha_opt3[n_reps,n,i] = 1./ridge_model3.lambda_\n",
    "            beta_opt3[n_reps,n,i]  = ridge_model3.alpha_\n",
    "\n",
    "            temp = second_der_alpha_beta([alpha_opt3[n_reps,n,i],beta_opt3[n_reps,n,i]],d1,\\\n",
    "                           num_subnw,obs_noise3[n][:int(T/deltaT)*num_repeats_list[n_reps],i])*len(obs_noise3[n][:int(T/deltaT)*num_repeats_list[n_reps],i])\n",
    "\n",
    "            alpha_error3[n_reps,n,i] = np.abs(temp[1]/(temp[0]*temp[1]-temp[2]**2))**0.5\n",
    "            beta_error3[n_reps,n,i]  = np.abs(temp[0]/(temp[0]*temp[1]-temp[2]**2))**0.5\n",
    "        \n",
    "        ordered_beta3[n_reps,n,:] = (np.append(beta_opt3[n_reps,n,boundary_list],beta_opt3[n_reps,n,[i for i in range(num_subnw) if i not in boundary_list]]))\n",
    "\n",
    "        ordered_beta_error3[n_reps,n,:] = (np.append(beta_error3[n_reps,n,boundary_list],beta_error3[n_reps,n,[i for i in range(num_subnw) if i not in boundary_list]]))\n",
    "        \n",
    "        temp_list = np.copy(ordered_beta3[n_reps,n,:])\n",
    "        temp_list = np.expand_dims(temp_list,axis=0)\n",
    "\n",
    "        temp_list_error = np.copy(ordered_beta_error3[n_reps,n,:])\n",
    "        temp_list_error = np.expand_dims(temp_list_error,axis=0)\n",
    "        \n",
    "        \n",
    "        auc_list3[n_reps,n] = utilities.auc_roc(temp_list,beta_error=temp_list_error\\\n",
    "                        ,num_threshold=200,num_bdry=len(boundary_list),method='single',plot=False,threshold_scale='log')\n",
    "        \n",
    "        print(n,n_reps)\n",
    "    \n",
    "    "
   ]
  },
  {
   "cell_type": "code",
   "execution_count": null,
   "metadata": {},
   "outputs": [],
   "source": [
    "plt.figure(figsize=(12,4))\n",
    "\n",
    "plt.subplot(121)\n",
    "for i in range(len(num_repeats_list)):\n",
    "    plt.plot(noise_list3**2,auc_list3[i,:],'o-')\n",
    "plt.xscale('log')\n",
    "plt.xlabel(r'$\\epsilon$')\n",
    "plt.ylabel(r'$\\mathcal{A}$')\n",
    "#plt.ylim((0.4,1.1))\n",
    "plt.legend(num_repeats_list,title=r'$\\tilde N$')\n",
    "plt.ylim((0.425,1.1))"
   ]
  },
  {
   "cell_type": "code",
   "execution_count": 25,
   "metadata": {},
   "outputs": [
    {
     "data": {
      "text/plain": [
       "(0.425, 1.1)"
      ]
     },
     "execution_count": 25,
     "metadata": {},
     "output_type": "execute_result"
    },
    {
     "data": {
      "image/png": "[encoded data removed]",
      "text/plain": [
       "<Figure size 1200x400 with 1 Axes>"
      ]
     },
     "metadata": {},
     "output_type": "display_data"
    }
   ],
   "source": [
    "plt.figure(figsize=(12,4))\n",
    "\n",
    "plt.subplot(121)\n",
    "for i in range(len(num_repeats_list)):\n",
    "    plt.plot(noise_list3,auc_list3[i,:],'o-')\n",
    "plt.xscale('log')\n",
    "plt.xlabel(r'$\\epsilon$')\n",
    "plt.ylabel(r'$\\mathcal{A}$')\n",
    "#plt.ylim((0.4,1.1))\n",
    "plt.legend(num_repeats_list,title=r'$\\tilde N$')\n",
    "plt.ylim((0.425,1.1))"
   ]
  },
  {
   "cell_type": "code",
   "execution_count": 26,
   "metadata": {},
   "outputs": [],
   "source": [
    "t3_new = {}\n",
    "t3_new[\"noise_list\"] = noise_list3\n",
    "t3_new[\"auc_list\"]   = auc_list3\n",
    "t3_new[\"T\"]          = T\n",
    "t3_new[\"deltaT\"]     = deltaT\n",
    "t3_new[\"beta\"]       = beta_opt3\n",
    "t3_new[\"alpha\"]      = alpha_opt3\n",
    "t3_new[\"network\"]    = nw1\n",
    "t3_new[\"ordered_beta\"] = ordered_beta3\n",
    "#t3_new[\"ordered_beta\"] = ordered_beta3\n",
    "t3_new[\"ordered_beta_error\"] = ordered_beta_error3\n",
    "np.save(\"data/linear_network_noisy_auc_noise3_small_dt_small_T_withError\",t3_new)"
   ]
  },
  {
   "cell_type": "code",
   "execution_count": null,
   "metadata": {},
   "outputs": [],
   "source": []
  }
 ],
 "metadata": {
  "kernelspec": {
   "display_name": "Python 3 (ipykernel)",
   "language": "python",
   "name": "python3"
  },
  "language_info": {
   "codemirror_mode": {
    "name": "ipython",
    "version": 3
   },
   "file_extension": ".py",
   "mimetype": "text/x-python",
   "name": "python",
   "nbconvert_exporter": "python",
   "pygments_lexer": "ipython3",
   "version": "3.12.2"
  }
 },
 "nbformat": 4,
 "nbformat_minor": 4
}
