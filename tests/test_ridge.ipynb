{
 "cells": [
  {
   "cell_type": "code",
   "execution_count": 2,
   "metadata": {},
   "outputs": [],
   "source": [
    "import sys\n",
    "import os\n",
    "import numpy as np \n",
    "from scipy.integrate import solve_ivp\n",
    "from sklearn.linear_model import BayesianRidge\n",
    "\n",
    "\n",
    "sys.path.append(os.path.abspath('../packages'))\n",
    "from utilities import *"
   ]
  },
  {
   "cell_type": "code",
   "execution_count": 3,
   "metadata": {},
   "outputs": [],
   "source": [
    "path_dir_script = '../packages'\n",
    "\n",
    "## EGFR NETWORK with Michaelis-Menten Dynamics without enzyme units\n",
    "EGFR_M_S_UNITS_PATH =path_dir_script + '/parameters/EGFR/egfr_m_s_units.csv'\n",
    "\n",
    "## Defining the paths for the EGFR network with Michaelis-Menten Dynamics\n",
    "M_DYNB_PATH =path_dir_script + '/parameters/EGFR/bdyn.txt'\n",
    "M_DYNH_PATH= path_dir_script + '/parameters/EGFR/hdyn.txt'\n",
    "M_DYNU_PATH= path_dir_script + '/parameters/EGFR/udyn.txt'\n",
    "M_DYNM_PATH= path_dir_script + '/parameters/EGFR/mdyn.txt'\n",
    "\n"
   ]
  },
  {
   "cell_type": "code",
   "execution_count": 4,
   "metadata": {},
   "outputs": [],
   "source": [
    "# Calculates the dynamics of the system\n",
    "\n",
    "dyn, S, flux = get_dynamics(network='', dynb_path=M_DYNB_PATH, dynh_path=M_DYNH_PATH, dynu_path=M_DYNU_PATH, dynm_path=M_DYNM_PATH, units_path= EGFR_M_S_UNITS_PATH)\n",
    "\n",
    "# Loading steady state values for units \n",
    "y_val = load_rubin14_MM_yvals(y_vals_file='../packages/parameters/EGFR/yvals.txt')"
   ]
  },
  {
   "cell_type": "code",
   "execution_count": null,
   "metadata": {},
   "outputs": [],
   "source": []
  },
  {
   "cell_type": "code",
   "execution_count": 5,
   "metadata": {},
   "outputs": [],
   "source": [
    "# Setting dynamics of the system and updating the parameters\n",
    "\n",
    "par = make_par('egfr')\n",
    "par['dynamics'] = dyn\n",
    "par = refresh_netw_par(par)"
   ]
  },
  {
   "cell_type": "code",
   "execution_count": null,
   "metadata": {},
   "outputs": [],
   "source": [
    "# Create initial conditions for concentrations of units, perturbed from y_val\n",
    "stdv = .2   # standard deviation from y_val\n",
    "init = y_val * ( 1 +  np.random.normal(0, stdv, len(y_val)))    # initial conditions"
   ]
  },
  {
   "cell_type": "code",
   "execution_count": 7,
   "metadata": {},
   "outputs": [],
   "source": [
    "n_runs = 20\n",
    "t_eval = np.linspace(0, 20, 100)\n",
    "\n",
    "# Generating Data \n",
    "init_list = [y_val * ( 1 +  np.random.normal(0, stdv, len(y_val))) for i in range(n_runs)]\n",
    "\n",
    "d1 = None \n",
    "der = None \n",
    "\n",
    "for r in range(n_runs): \n",
    "    sol = solve_ivp(dyn,t_span = (0, t_eval[-1]),  t_eval=t_eval, y0= init_list[r], method='BDF')  # solve the system of ODEs\n",
    "    x = sol.y[par['idx_subnw'], :]  # extract the concentrations of the observed units \n",
    "\n",
    "    if (d1 is not None) and (der is not None): \n",
    "        d1 = np.append(d1, design_matrix(x.T), axis=0)\n",
    "        der = np.append(der, np.gradient(x,t_eval,  axis=1), axis=1)\n",
    "    else:     \n",
    "        d1 = design_matrix(x.T)\n",
    "        der = np.gradient(x,t_eval,  axis=1)    \n",
    "\n",
    "\n",
    "# Fitting the model\n",
    "alphas = None \n",
    "betas = None \n",
    "weights = None\n",
    "Sigmas = None\n",
    "\n",
    "for i in range(len(par['units_subnw'])): \n",
    "    clf = BayesianRidge(lambda_1=0, lambda_2=0, alpha_1=0, alpha_2=0, copy_X = True, tol=1e-4, fit_intercept=False)\n",
    "    clf.fit(d1, der[i, :])\n",
    "\n",
    "    if (alphas is not None) and (betas is not None) and (weights is not None): \n",
    "        alphas = np.append(alphas, [clf.lambda_], axis=0)\n",
    "        betas = np.append(betas, [clf.alpha_], axis=0)\n",
    "        weights = np.append(weights, [clf.coef_], axis=0)\n",
    "#        Sigmas = np.append(Sigmas, clf.sigma_, axis=0)\n",
    "\n",
    "    else: \n",
    "        alphas = [clf.lambda_]\n",
    "        betas = [clf.alpha_]\n",
    "        weights = [clf.coef_]"
   ]
  },
  {
   "cell_type": "code",
   "execution_count": 8,
   "metadata": {},
   "outputs": [],
   "source": [
    "def get_stoch_term(epsilon, S, flux):\n",
    "    g = lambda t, stat: np.sqrt(epsilon) * S @ np.diag(np.sqrt(flux(t, stat))) \n",
    "    \n",
    "    return g\n",
    "\n",
    "\n",
    "det_dyn, S, flux = get_dynamics()\n",
    "stoch_dyn = get_stoch_term(0.00001, S, flux)\n"
   ]
  },
  {
   "cell_type": "code",
   "execution_count": 9,
   "metadata": {},
   "outputs": [],
   "source": [
    "def int_ito(f, g, y0, t_eval, max_reject=100, n_lower_dt=10):\n",
    "    \n",
    "    n_steps = len(t_eval)\n",
    "    N_w = g(0, y0).shape[1]\n",
    "\n",
    "\n",
    "    y = np.zeros((len(y0), n_steps))\n",
    "    y[:, 0] = y0\n",
    "    dt = t_eval[1] - t_eval[0]\n",
    "    for i in range(1, n_steps):\n",
    "        val = -1\n",
    "\n",
    "        counter = 0\n",
    "\n",
    "        while np.any(val< 0): \n",
    "            if counter > max_reject : \n",
    "                raise RuntimeError('Max reject reached')                \n",
    "            elif counter > n_lower_dt: \n",
    "                print('lower dt')    \n",
    "                _t_eval = np.linspace(t_eval[i-1], t_eval[i], n_lower_dt)\n",
    "                val = int_ito(f, g, y[:, i-1], _t_eval, max_reject=n_lower_dt)[:, -1]\n",
    "            else:\n",
    "                val = y[:, i-1] + f(t_eval[i-1], y[:, i-1]) * dt + g(t_eval[i-1], y[:, i-1]) @ np.random.normal(0, 1, N_w) * np.sqrt(dt)\n",
    "\n",
    "            y[:, i] = val\n",
    "            counter += 1\n",
    "\n",
    "    return y"
   ]
  },
  {
   "cell_type": "code",
   "execution_count": 10,
   "metadata": {},
   "outputs": [],
   "source": [
    "sol = int_ito(det_dyn, stoch_dyn, init_list[0], np.linspace(0, 20, 100))"
   ]
  },
  {
   "cell_type": "code",
   "execution_count": 11,
   "metadata": {},
   "outputs": [],
   "source": [
    "import tqdm "
   ]
  },
  {
   "cell_type": "code",
   "execution_count": 37,
   "metadata": {},
   "outputs": [
    {
     "name": "stderr",
     "output_type": "stream",
     "text": [
      "epsilon: 6.0e-08:   0%|          | 0/3 [00:00<?, ?it/s]"
     ]
    },
    {
     "name": "stderr",
     "output_type": "stream",
     "text": [
      "epsilon: 1.6e-02: 100%|██████████| 3/3 [00:20<00:00,  6.79s/it]\n"
     ]
    }
   ],
   "source": [
    "from tqdm import tqdm\n",
    "n_epsilon = 3\n",
    "epsilon_list = np.logspace(-8, -2, base=8, num=n_epsilon)\n",
    "dt_list = [5e-3, 5e-2]\n",
    "n_runs = 2\n",
    "n_avg = 3\n",
    "T = 10\n",
    "stdv = .2\n",
    "\n",
    "n_dt = len(dt_list)\n",
    "t_eval = [np.linspace(0, T, int(np.ceil(T / dt))) for dt in dt_list]\n",
    "\n",
    "n_sub = len(par['units_subnw'])\n",
    "\n",
    "# Generating Data \n",
    "init_list = [[y_val * ( 1 +  np.random.normal(0, stdv, len(y_val))) for i in range(n_runs)] for _ in range(n_avg)]\n",
    "\n",
    "\n",
    "\n",
    "alpha_list = np.empty((n_epsilon, n_dt, n_avg, n_sub ))\n",
    "beta_list  = np.empty((n_epsilon, n_dt, n_avg, n_sub ))\n",
    "weights_list = np.empty((n_epsilon, n_dt, n_avg, n_sub ), dtype=object)\n",
    "alpha_error_list = np.empty((n_epsilon, n_dt, n_avg, n_sub ))\n",
    "beta_error_list = np.empty((n_epsilon, n_dt, n_avg, n_sub ))\n",
    "emp_var_list = np.empty((n_epsilon, n_dt, n_avg, n_sub))\n",
    "\n",
    "\n",
    "bar_e = tqdm(enumerate(epsilon_list), total=len(epsilon_list))\n",
    "for i_e, epsilon in bar_e:\n",
    "    bar_e.set_description(f'epsilon: {epsilon:.1e}')    \n",
    "    det_dyn, S, flux = get_dynamics()\n",
    "    stoch_dyn = get_stoch_term(epsilon, S, flux)\n",
    "     \n",
    "\n",
    "    for i_a in range(n_avg):        \n",
    "        \n",
    "        d1 = [None]*n_dt\n",
    "        der = [None]*n_dt\n",
    "        der_det = [None]*n_dt\n",
    "\n",
    "\n",
    "\n",
    "        bar_runs = tqdm(range(n_runs), total=n_runs, leave=False)\n",
    "        for r in bar_runs:\n",
    "            init = init_list[i_a][r]\n",
    "\n",
    "            sol_det = solve_ivp(dyn,t_span = (0, T),  t_eval=t_eval[0], y0= init, method='BDF')  # solve the system of ODEs\n",
    "            sol_stoch = int_ito(det_dyn, stoch_dyn, init, t_eval=t_eval[0])\n",
    "\n",
    "            x_det = sol_det.y[par['idx_subnw'], :]  # extract the concentrations of the observed units \n",
    "            x_stoch = sol_stoch[par['idx_subnw'], :]  # extract the concentrations of the observed units \n",
    "            \n",
    "           \n",
    "            for i_dt, _ in enumerate(dt_list): \n",
    "                x_s = x_stoch[:, ::int(np.ceil(dt_list[i_dt] / dt_list[0]))]\n",
    "                x_d = x_det[:, ::int(np.ceil(dt_list[i_dt] / dt_list[0]))]\n",
    "\n",
    "                if (d1[i_dt] is not None): \n",
    "                    d1[i_dt] = np.append(d1[i_dt], design_matrix(x_s.T), axis=0)\n",
    "                    der[i_dt] = np.append(der[i_dt], np.gradient(x_s,t_eval[i_dt],  axis=1), axis=1)                                        \n",
    "                    der_det[i_dt] = np.append(der_det[i_dt], np.gradient(x_d, t_eval[i_dt],  axis=1), axis=1)                    \n",
    "                                        \n",
    "                                    \n",
    "                else:     \n",
    "                    d1[i_dt] = design_matrix(x_s.T)\n",
    "                    der[i_dt] = np.gradient(x_s,t_eval[i_dt],  axis=1)    \n",
    "                    der_det[i_dt] = np.gradient(x_d,t_eval[i_dt],  axis=1)  \n",
    "                \n",
    "        for i_dt in range(n_dt):\n",
    "               \n",
    "            emp_var_list[i_e, i_dt, i_a] = np.var(der[i_dt] - der_det[i_dt], axis=1) \n",
    "\n",
    "        \n",
    "        for i_dt in range(n_dt):\n",
    "            for i in range(len(par['units_subnw'])): \n",
    "                clf = BayesianRidge(lambda_1=0, lambda_2=0, alpha_1=0, alpha_2=0, copy_X = True, tol=1e-4, fit_intercept=False)\n",
    "                clf.fit(d1[i_dt], der[i_dt][i])\n",
    "\n",
    "                alpha = clf.lambda_\n",
    "                beta = clf.alpha_            \n",
    "\n",
    "                temp = second_der_alpha_beta_2(alpha, beta, d1[i_dt], der[i_dt][i])\n",
    "\n",
    "                alpha_error_list[i_e, i_dt, i_a, i] = np.abs(temp[1]/(temp[0]*temp[1]-temp[2]**2))**0.5\n",
    "                beta_error_list[i_e,i_dt, i_a, i]  = np.abs(temp[0]/(temp[0]*temp[1]-temp[2]**2))**0.5                \n",
    "                \n",
    "                alpha_list[i_e, i_dt,  i_a, i] = clf.lambda_\n",
    "                beta_list[i_e,i_dt,  i_a, i] = clf.alpha_\n",
    "                weights_list[i_e,i_dt, i_a, i] = clf.coef_\n",
    "\n",
    "                            \n",
    "                \n",
    "\n",
    "\n",
    "\n",
    "\n",
    "            "
   ]
  },
  {
   "cell_type": "code",
   "execution_count": 38,
   "metadata": {},
   "outputs": [],
   "source": [
    "t1_data = {'alpha_list': alpha_list, 'beta_list': beta_list, 'weights_list': weights_list, 'alpha_error_list': alpha_error_list, 'beta_error_list': beta_error_list, 'emp_var_list': emp_var_list, 'epsilon_list': epsilon_list, 'dt_list': dt_list, 'n_runs': n_runs, 'n_avg': n_avg, 'T': T, 'stdv': stdv}\n",
    "\n",
    "np.save('../data/09_EGFR_MM_stoch', t1_data)"
   ]
  },
  {
   "cell_type": "code",
   "execution_count": 14,
   "metadata": {},
   "outputs": [],
   "source": [
    "def second_der_alpha_beta_2(alpha, beta, d1, x):\n",
    "    \n",
    "    \"\"\"\n",
    "    Returns the second derivative of the log-likelihood per number of data points, of the training data coming from a Gaussian process with weight correlation alpha and random noise beta\n",
    "    \n",
    "    Input:\n",
    "    par       = par[0]: alpha value, par[1]: beta value\n",
    "    d1        = design matrix\n",
    "    num_subnw = num of species in the subnetwork\n",
    "    obs       = the observations, that is the time derivatives of the concentrations at all time points.\n",
    "    method    = if log, then it return the gradient wrt log alpha and log beta\n",
    "    \n",
    "    Output:\n",
    "    \n",
    "    The second derivative of log_likelihood per number of training points at given alpha and beta. dim = 3: wrt alpha, beta and mixed term.\n",
    "    \n",
    "  \n",
    "    \"\"\"\n",
    "\n",
    "    \n",
    "    num_basis = d1.shape[1] #int(num_subnw*(num_subnw+3)/2 + 1)\n",
    "    num_obs   = len(x)\n",
    "    A_inv     = np.linalg.inv(np.diag(alpha*np.ones(num_basis)) + beta*np.matmul(d1.T,d1))\n",
    "    mn        = beta*np.matmul(A_inv,np.matmul(d1.T,x))\n",
    "    \n",
    "    g2_alpha      = -0.5*num_basis/alpha**2 + np.matmul(mn.T,np.matmul(A_inv,mn)) + 0.5*np.trace(np.linalg.matrix_power(A_inv,2))\n",
    "    g2_beta       = -0.5*num_obs/beta**2 - np.matmul((x-np.matmul(d1,mn)).T,(np.matmul(d1,np.matmul(A_inv,np.matmul(d1.T,np.matmul(d1,mn))))- np.matmul(d1,mn)/beta))\\\n",
    "                    +0.5*np.trace(np.linalg.matrix_power(np.matmul(A_inv,np.matmul(d1.T,d1)),2))\n",
    "    g2_alpha_beta = -np.matmul((x - np.matmul(d1,mn)).T,(np.matmul(d1,np.matmul(A_inv,mn)))) +\\\n",
    "                    0.5*np.trace(np.matmul(np.linalg.matrix_power(A_inv,2),np.matmul(d1.T,d1)))\n",
    "\n",
    "    \n",
    "    return np.array([g2_alpha,g2_beta,g2_alpha_beta])/num_obs  \n"
   ]
  },
  {
   "cell_type": "code",
   "execution_count": null,
   "metadata": {},
   "outputs": [
    {
     "name": "stderr",
     "output_type": "stream",
     "text": [
      "  0%|          | 0/10 [00:00<?, ?it/s]\n"
     ]
    },
    {
     "name": "stdout",
     "output_type": "stream",
     "text": [
      "(136, 136)\n"
     ]
    },
    {
     "ename": "ValueError",
     "evalue": "all the input arrays must have same number of dimensions, but the array at index 0 has 3 dimension(s) and the array at index 1 has 2 dimension(s)",
     "output_type": "error",
     "traceback": [
      "\u001b[0;31m---------------------------------------------------------------------------\u001b[0m",
      "\u001b[0;31mValueError\u001b[0m                                Traceback (most recent call last)",
      "Cell \u001b[0;32mIn[44], line 28\u001b[0m\n\u001b[1;32m     26\u001b[0m     betas[i_a] \u001b[38;5;241m=\u001b[39m np\u001b[38;5;241m.\u001b[39mappend(betas[i_a], [clf\u001b[38;5;241m.\u001b[39malpha_], axis\u001b[38;5;241m=\u001b[39m\u001b[38;5;241m0\u001b[39m)\n\u001b[1;32m     27\u001b[0m     weights[i_a] \u001b[38;5;241m=\u001b[39m np\u001b[38;5;241m.\u001b[39mappend(weights[i_a], [clf\u001b[38;5;241m.\u001b[39mcoef_], axis\u001b[38;5;241m=\u001b[39m\u001b[38;5;241m0\u001b[39m)\n\u001b[0;32m---> 28\u001b[0m     Sigmas[i_a] \u001b[38;5;241m=\u001b[39m \u001b[43mnp\u001b[49m\u001b[38;5;241;43m.\u001b[39;49m\u001b[43mappend\u001b[49m\u001b[43m(\u001b[49m\u001b[43mSigmas\u001b[49m\u001b[43m[\u001b[49m\u001b[43mi_a\u001b[49m\u001b[43m]\u001b[49m\u001b[43m,\u001b[49m\u001b[43m \u001b[49m\u001b[43mclf\u001b[49m\u001b[38;5;241;43m.\u001b[39;49m\u001b[43msigma_\u001b[49m\u001b[43m,\u001b[49m\u001b[43m \u001b[49m\u001b[43maxis\u001b[49m\u001b[38;5;241;43m=\u001b[39;49m\u001b[38;5;241;43m0\u001b[39;49m\u001b[43m)\u001b[49m\n\u001b[1;32m     31\u001b[0m \u001b[38;5;28;01melse\u001b[39;00m: \n\u001b[1;32m     32\u001b[0m     alphas[i_a] \u001b[38;5;241m=\u001b[39m [clf\u001b[38;5;241m.\u001b[39mlambda_]\n",
      "File \u001b[0;32m~/anaconda3/envs/mlmi/lib/python3.12/site-packages/numpy/lib/function_base.py:5618\u001b[0m, in \u001b[0;36mappend\u001b[0;34m(arr, values, axis)\u001b[0m\n\u001b[1;32m   5616\u001b[0m     values \u001b[38;5;241m=\u001b[39m ravel(values)\n\u001b[1;32m   5617\u001b[0m     axis \u001b[38;5;241m=\u001b[39m arr\u001b[38;5;241m.\u001b[39mndim\u001b[38;5;241m-\u001b[39m\u001b[38;5;241m1\u001b[39m\n\u001b[0;32m-> 5618\u001b[0m \u001b[38;5;28;01mreturn\u001b[39;00m \u001b[43mconcatenate\u001b[49m\u001b[43m(\u001b[49m\u001b[43m(\u001b[49m\u001b[43marr\u001b[49m\u001b[43m,\u001b[49m\u001b[43m \u001b[49m\u001b[43mvalues\u001b[49m\u001b[43m)\u001b[49m\u001b[43m,\u001b[49m\u001b[43m \u001b[49m\u001b[43maxis\u001b[49m\u001b[38;5;241;43m=\u001b[39;49m\u001b[43maxis\u001b[49m\u001b[43m)\u001b[49m\n",
      "\u001b[0;31mValueError\u001b[0m: all the input arrays must have same number of dimensions, but the array at index 0 has 3 dimension(s) and the array at index 1 has 2 dimension(s)"
     ]
    }
   ],
   "source": [
    "\n",
    "\n",
    "\n",
    "alpha_list = []\n",
    "beta_list = []\n",
    "weights_list = []\n",
    "auc_list = []\n",
    "\n",
    "\n",
    "bar_e = tqdm(enumerate(epsilon_list), total=len(epsilon_list))\n",
    "for i_e in bar_e:\n",
    "\n",
    "    # Fitting the model\n",
    "    alphas = [None]*n_avg\n",
    "    betas = [None]*n_avg\n",
    "    weights = [None]*n_avg\n",
    "    auc = [None]*n_avg\n",
    "\n",
    "\n",
    "    bar_avg = tqdm(range(n_avg), total=n_avg, leave=False)\n",
    "    for i_a in bar_avg:\n",
    "    \n"
   ]
  },
  {
   "cell_type": "code",
   "execution_count": null,
   "metadata": {},
   "outputs": [],
   "source": []
  },
  {
   "cell_type": "code",
   "execution_count": 20,
   "metadata": {},
   "outputs": [
    {
     "data": {
      "text/plain": [
       "{'dynb':     index type educt1 educt2 product1    ratef   rateb\n",
       " 0       6    b    GRb    SOS       GS  0.00010  0.0015\n",
       " 1       3    b     RP    GRb       RG  0.00300  0.0500\n",
       " 2       4    b     RG    SOS      RGS  0.01000  0.0600\n",
       " 3       5    b     RP     GS      RGS  0.00450  0.0300\n",
       " 4       1    b     RP   PLCg      RPL  0.06000  0.2000\n",
       " 5       2    b     RP  PLCgP     RPLP  0.00600  0.3000\n",
       " 6       7    b     RP    Shc      RSh  0.09000  0.6000\n",
       " 7       9    b   RShP    GRb     RShG  0.00300  0.1000\n",
       " 8      10    b     RP    ShG     RShG  0.00090  0.3000\n",
       " 9      16    b   RShP     GS    RShGS  0.00900  0.0429\n",
       " 10     12    b   ShGS     RP    RShGS  0.00024  0.1200\n",
       " 11     11    b   RShG    SOS    RShGS  0.01000  0.0214\n",
       " 12      8    b    ShP     RP     RShP  0.00090  0.3000\n",
       " 13      0    b      R    EGF       Ra  0.00300  0.0600\n",
       " 14     13    b    ShP    GRb      ShG  0.00300  0.1000\n",
       " 15     14    b    ShG    SOS     ShGS  0.03000  0.0640\n",
       " 16     15    b    ShP     GS     ShGS  0.02100  0.1000,\n",
       " 'dynh':    index type educt1 educt2 product1  ratef  rateb\n",
       " 0      0    h     Ra     Ra       R2   0.01    0.1,\n",
       " 'dynu':    index type  educt product1  ratef  rateb\n",
       " 0      3    u  PLCgP   PLCgPI      1   0.03\n",
       " 1      0    u     R2       RP      1   0.01\n",
       " 2      1    u    RPL     RPLP      1   0.05\n",
       " 3      2    u    RSh     RShP      6   0.06,\n",
       " 'dynm':    index type   subs product1   Vmax   Km\n",
       " 0      1   mm  PLCgP     PLCg    1.0  100\n",
       " 1      0   mm     RP       R2  450.0   50\n",
       " 2      2   mm    ShP      Shc    1.7  340,\n",
       " 'units': array(['EGF', 'GRb', 'GS', 'PLCg', 'PLCgP', 'PLCgPI', 'R', 'R2', 'RG',\n",
       "        'RGS', 'RP', 'RPL', 'RPLP', 'RSh', 'RShG', 'RShGS', 'RShP', 'Ra',\n",
       "        'SOS', 'ShG', 'ShGS', 'ShP', 'Shc'], dtype=object)}"
      ]
     },
     "execution_count": 20,
     "metadata": {},
     "output_type": "execute_result"
    }
   ],
   "source": [
    "get_rates_par()"
   ]
  },
  {
   "cell_type": "code",
   "execution_count": 31,
   "metadata": {},
   "outputs": [
    {
     "data": {
      "text/plain": [
       "[]"
      ]
     },
     "execution_count": 31,
     "metadata": {},
     "output_type": "execute_result"
    }
   ],
   "source": [
    "[]*10"
   ]
  },
  {
   "cell_type": "code",
   "execution_count": 28,
   "metadata": {},
   "outputs": [
    {
     "data": {
      "text/plain": [
       "15"
      ]
     },
     "execution_count": 28,
     "metadata": {},
     "output_type": "execute_result"
    }
   ],
   "source": [
    "len(weights_list[])"
   ]
  }
 ],
 "metadata": {
  "kernelspec": {
   "display_name": "mlmi",
   "language": "python",
   "name": "python3"
  },
  "language_info": {
   "codemirror_mode": {
    "name": "ipython",
    "version": 3
   },
   "file_extension": ".py",
   "mimetype": "text/x-python",
   "name": "python",
   "nbconvert_exporter": "python",
   "pygments_lexer": "ipython3",
   "version": "3.12.7"
  }
 },
 "nbformat": 4,
 "nbformat_minor": 2
}
